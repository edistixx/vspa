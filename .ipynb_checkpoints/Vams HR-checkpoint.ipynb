{
 "cells": [
  {
   "cell_type": "code",
   "execution_count": 42,
   "id": "057e15a1",
   "metadata": {},
   "outputs": [],
   "source": [
    "import pandas as pd\n"
   ]
  },
  {
   "cell_type": "code",
   "execution_count": 43,
   "id": "5512196d",
   "metadata": {},
   "outputs": [],
   "source": [
    "# Dataframe source\n",
    "vams_employees = pd.DataFrame({\"Employees_ID\":[100124],\"First_Name\":[\"Goodness Mercy\"],\"Last_Name\":[\"Barrah\"],\"Other_Name\":[\"Chiwendu\"],\n",
    "                              \"Gender\":[\"Female\"],\"Date_of_birth\":[\"11/07/2000\"],\"Nationality\":[\"Nigeria\"],\n",
    "                              \"Position\":[\"Stylist\"],\"MaritalDesc\":[\"Single\"],\"DateofHire\":[\"12/13/2023\"],\n",
    "                              \"Absences\":[0],\"Date_of_termination\":[\"null\"],\"Salary\":[\"Pending\"]}) "
   ]
  },
  {
   "cell_type": "code",
   "execution_count": 44,
   "id": "c54ac34c",
   "metadata": {},
   "outputs": [
    {
     "data": {
      "text/html": [
       "<div>\n",
       "<style scoped>\n",
       "    .dataframe tbody tr th:only-of-type {\n",
       "        vertical-align: middle;\n",
       "    }\n",
       "\n",
       "    .dataframe tbody tr th {\n",
       "        vertical-align: top;\n",
       "    }\n",
       "\n",
       "    .dataframe thead th {\n",
       "        text-align: right;\n",
       "    }\n",
       "</style>\n",
       "<table border=\"1\" class=\"dataframe\">\n",
       "  <thead>\n",
       "    <tr style=\"text-align: right;\">\n",
       "      <th></th>\n",
       "      <th>Employees_ID</th>\n",
       "      <th>First_Name</th>\n",
       "      <th>Last_Name</th>\n",
       "      <th>Other_Name</th>\n",
       "      <th>Gender</th>\n",
       "      <th>Date_of_birth</th>\n",
       "      <th>Nationality</th>\n",
       "      <th>Position</th>\n",
       "      <th>MaritalDesc</th>\n",
       "      <th>DateofHire</th>\n",
       "      <th>Absences</th>\n",
       "      <th>Date_of_termination</th>\n",
       "      <th>Salary</th>\n",
       "    </tr>\n",
       "  </thead>\n",
       "  <tbody>\n",
       "    <tr>\n",
       "      <th>0</th>\n",
       "      <td>100124</td>\n",
       "      <td>Goodness Mercy</td>\n",
       "      <td>Barrah</td>\n",
       "      <td>Chiwendu</td>\n",
       "      <td>Female</td>\n",
       "      <td>11/07/2000</td>\n",
       "      <td>Nigeria</td>\n",
       "      <td>Stylist</td>\n",
       "      <td>Single</td>\n",
       "      <td>12/13/2023</td>\n",
       "      <td>0</td>\n",
       "      <td>null</td>\n",
       "      <td>Pending</td>\n",
       "    </tr>\n",
       "  </tbody>\n",
       "</table>\n",
       "</div>"
      ],
      "text/plain": [
       "   Employees_ID      First_Name Last_Name Other_Name  Gender Date_of_birth  \\\n",
       "0        100124  Goodness Mercy    Barrah   Chiwendu  Female    11/07/2000   \n",
       "\n",
       "  Nationality Position MaritalDesc  DateofHire  Absences Date_of_termination  \\\n",
       "0     Nigeria  Stylist      Single  12/13/2023         0                null   \n",
       "\n",
       "    Salary  \n",
       "0  Pending  "
      ]
     },
     "execution_count": 44,
     "metadata": {},
     "output_type": "execute_result"
    }
   ],
   "source": [
    "#Dataframe preview\n",
    "vams_employees"
   ]
  },
  {
   "cell_type": "code",
   "execution_count": 45,
   "id": "1e5734cd",
   "metadata": {},
   "outputs": [],
   "source": [
    "#csv backup\n",
    "vams_employees.to_excel(\"C:\\\\Users\\\\User\\\\Desktop\\\\Vams_HR.xlsx\")"
   ]
  },
  {
   "cell_type": "code",
   "execution_count": null,
   "id": "f115c81f",
   "metadata": {},
   "outputs": [],
   "source": []
  },
  {
   "cell_type": "code",
   "execution_count": 46,
   "id": "f008e9fa",
   "metadata": {},
   "outputs": [],
   "source": [
    "vams_employees[\"Date_of_birth\"] = pd.to_datetime(vams_employees[\"Date_of_birth\"])\n",
    "vams_employees[\"DateofHire\"] = pd.to_datetime(vams_employees[\"DateofHire\"])"
   ]
  },
  {
   "cell_type": "code",
   "execution_count": 47,
   "id": "0dd61825",
   "metadata": {},
   "outputs": [
    {
     "data": {
      "text/plain": [
       "Employees_ID                    int64\n",
       "First_Name                     object\n",
       "Last_Name                      object\n",
       "Other_Name                     object\n",
       "Gender                         object\n",
       "Date_of_birth          datetime64[ns]\n",
       "Nationality                    object\n",
       "Position                       object\n",
       "MaritalDesc                    object\n",
       "DateofHire             datetime64[ns]\n",
       "Absences                        int64\n",
       "Date_of_termination            object\n",
       "Salary                         object\n",
       "dtype: object"
      ]
     },
     "execution_count": 47,
     "metadata": {},
     "output_type": "execute_result"
    }
   ],
   "source": [
    "#data structure check\n",
    "vams_employees.dtypes"
   ]
  }
 ],
 "metadata": {
  "kernelspec": {
   "display_name": "Python 3 (ipykernel)",
   "language": "python",
   "name": "python3"
  },
  "language_info": {
   "codemirror_mode": {
    "name": "ipython",
    "version": 3
   },
   "file_extension": ".py",
   "mimetype": "text/x-python",
   "name": "python",
   "nbconvert_exporter": "python",
   "pygments_lexer": "ipython3",
   "version": "3.9.13"
  }
 },
 "nbformat": 4,
 "nbformat_minor": 5
}
